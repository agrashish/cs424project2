{
 "cells": [
  {
   "cell_type": "code",
   "execution_count": 5,
   "metadata": {},
   "outputs": [],
   "source": [
    "with open(\"hurdat2-1851-2018-120319.txt\", 'r') as f:\n",
    "    with open(\"hurdat2-formatted.txt\", 'w') as o:\n",
    "        header = \"Hurricane,Name,NumEntries,Date,Time,RecordID,Status,Lat,Long,MaxWind,MinPress,\"\n",
    "        header += \"WRNE34,WRSE34,WRSW34,WRNW34,wRNE50,WRSE50,WRSW50,WRNW50,WRNE64,WRSE64,WRSW64,WRNW64,\\n\"\n",
    "        o.write(header)\n",
    "        curHeader = \"\"\n",
    "        for line in f:\n",
    "            if(len(line.split(\",\")) <= 4):\n",
    "                curHeader = line.rstrip()\n",
    "            else:\n",
    "                o.write(curHeader + line)"
   ]
  },
  {
   "cell_type": "code",
   "execution_count": null,
   "metadata": {},
   "outputs": [],
   "source": []
  }
 ],
 "metadata": {
  "kernelspec": {
   "display_name": "Python 3",
   "language": "python",
   "name": "python3"
  },
  "language_info": {
   "codemirror_mode": {
    "name": "ipython",
    "version": 3
   },
   "file_extension": ".py",
   "mimetype": "text/x-python",
   "name": "python",
   "nbconvert_exporter": "python",
   "pygments_lexer": "ipython3",
   "version": "3.6.10"
  }
 },
 "nbformat": 4,
 "nbformat_minor": 2
}
